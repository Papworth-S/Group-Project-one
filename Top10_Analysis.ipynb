{
 "cells": [
  {
   "cell_type": "code",
   "execution_count": null,
   "id": "9b2e2520",
   "metadata": {},
   "outputs": [],
   "source": [
    "# Import the nessassary modules and libraries\n",
    "import pandas as pd\n",
    "import numpy as np\n",
    "import matplotlib.pyplot as plt"
   ]
  },
  {
   "cell_type": "code",
   "execution_count": null,
   "id": "a199b4a5",
   "metadata": {},
   "outputs": [],
   "source": [
    "# bringing in the CSVs from the GPTop10.ipynb for analysis charting\n",
    "artist_toptrack_df = pd.read_csv(\"./Resources/ArtistTopTrack.csv\")\n",
    "artist_toptrack_df = artist_toptrack_df.drop(columns='index')\n",
    "artist_toptrack_df.head()"
   ]
  },
  {
   "cell_type": "code",
   "execution_count": null,
   "id": "315977f7",
   "metadata": {},
   "outputs": [],
   "source": [
    "# bringing in the CSVs from the GPTop10.ipynb for analysis charting\n",
    "per_artist_summary_df = pd.read_csv(\"./Resources/PerArtistSummary.csv\")\n",
    "per_artist_summary_df.head()"
   ]
  },
  {
   "cell_type": "code",
   "execution_count": null,
   "id": "2cbe2794",
   "metadata": {},
   "outputs": [],
   "source": [
    "# creating a top 50 and bottom 50 artist datafram from the csv wich came from\n",
    "# cleaning down to roughly 1900 artist and their top song from the pulled dataframe\n",
    "artist_and_likes = artist_toptrack_df[[\"Artist\",\"Likes\"]]\n",
    "artist_and_likes = artist_and_likes.set_index(\"Artist\")\n",
    "artist_and_likes_top100 = artist_and_likes.head(50)\n",
    "artist_and_likes_bottom100 = artist_and_likes.tail(50)"
   ]
  },
  {
   "cell_type": "code",
   "execution_count": null,
   "id": "bdc93dca",
   "metadata": {},
   "outputs": [],
   "source": [
    "# with one of the axes being a object, created a bar chart to show how many likes each of the top 50\n",
    "# artest had for their top song on spotify\n",
    "# the chart was creaeted using pandas, sized, fitted, and saved as an output for possible use in the presentation\n",
    "artist_and_likes_top100.plot(kind=\"bar\", figsize=(10,5))\n",
    "plt.title(\"Top 50 Artist by Likes\")\n",
    "plt.ylabel('Likes (Million)')\n",
    "plt.tight_layout()\n",
    "plt.savefig('./Images/Artist-Line-Top-50.png')\n",
    "plt.show()"
   ]
  },
  {
   "cell_type": "code",
   "execution_count": null,
   "id": "61c80a76",
   "metadata": {},
   "outputs": [],
   "source": [
    "# for compairson with the top 50, created another bar chart to show how many likes each of the bottom artest \n",
    "# had for their top song on spotify \n",
    "# the chart was creaeted using pandas, sized, fitted, and saved as an output for possible use in the presentation\n",
    "artist_and_likes_bottom100.plot(kind=\"bar\", figsize=(10,5))\n",
    "plt.title(\"Bottom 50 Artist by Likes\")\n",
    "plt.ylabel('Likes')\n",
    "plt.tight_layout()\n",
    "plt.savefig('./Images/Artist-Line-Bottom-50.png')\n",
    "plt.show()"
   ]
  },
  {
   "cell_type": "code",
   "execution_count": null,
   "id": "005bab96",
   "metadata": {},
   "outputs": [],
   "source": [
    "# vertical versions of the same two above charts are created below and also saved to file for use in presentation if needed\n",
    "ax = artist_and_likes_top100.plot(kind=\"barh\", figsize=(5,10), legend=False)\n",
    "plt.title(\"Top 50 Artist by Likes\")\n",
    "plt.xlabel('Likes (Millions)')\n",
    "ax.invert_yaxis()\n",
    "plt.tight_layout()\n",
    "plt.savefig('./Images/Artist-Line-Top-50-vert.png')\n",
    "plt.show()"
   ]
  },
  {
   "cell_type": "code",
   "execution_count": null,
   "id": "5c9dad5f",
   "metadata": {},
   "outputs": [],
   "source": [
    "# vertical versions of the same two above charts are created below and also saved to file for use in presentation if needed\n",
    "ax = artist_and_likes_bottom100.plot(kind=\"barh\", figsize=(5,10), legend=False)\n",
    "plt.title(\"Top 50 Artist by Likes\")\n",
    "plt.xlabel('Likes')\n",
    "ax.invert_yaxis()\n",
    "plt.tight_layout()\n",
    "plt.savefig('./Images/Artist-Line-Bottom-50-vert.png')\n",
    "plt.show()"
   ]
  },
  {
   "cell_type": "code",
   "execution_count": null,
   "id": "f33a8987",
   "metadata": {},
   "outputs": [],
   "source": [
    "# An effort to create a chart with all 1900+ artist with their top song\n",
    "# Rest the index to move Artist back into a column and then we needed to clean up a name that and a $$ which caused an error \n",
    "# When trying to plot -- we ended up no using that chart and removed it from the code but kept this bit of code for possible\n",
    "# future use\n",
    "artist_and_likes.reset_index(inplace=True)\n",
    "artist_and_likes['Artist'] = artist_and_likes['Artist'].str.replace('$', '\\$')\n",
    "artist_and_likes.head()"
   ]
  },
  {
   "cell_type": "code",
   "execution_count": null,
   "id": "eb019b3b",
   "metadata": {},
   "outputs": [],
   "source": [
    "# Create a stacked splatter chat showing how graded attributes stack in relation to how liked the song is\n",
    "# This and the following plot use the CSV that was created from a aggregation of the top 100 like songs\n",
    "ax = per_artist_summary_df.plot.scatter(y='Likes', x='Speechiness', color='green')\n",
    "# Add the rest of the attributes to the scatter plot to the first one\n",
    "per_artist_summary_df.plot.scatter(y='Likes', x='Liveness', color='blue', ax=ax)\n",
    "per_artist_summary_df.plot.scatter(y='Likes', x='Valence', color='red', ax=ax)\n",
    "per_artist_summary_df.plot.scatter(y='Likes', x='Energy', color='orange', ax=ax)\n",
    "per_artist_summary_df.plot.scatter(y='Likes', x='Acousticness', color='yellow', ax=ax)\n",
    "per_artist_summary_df.plot.scatter(y='Likes', x='Instrumentalness', color='violet', ax=ax)\n",
    "# Set the x and y -axis label\n",
    "ax.set_xlabel('Track Attributes')\n",
    "ax.set_ylabel('Popularity')\n",
    "# Add a legend in the upper left quadrant\n",
    "ax.legend(['Valence', 'Liveness', 'Speechiness', 'Energy', 'Acousticness', 'Instrumentalness'], \n",
    "          loc='upper left', bbox_to_anchor=(.35, 1))\n",
    "plt.savefig('./Images/artist_summary_plot.png')\n",
    "plt.show()\n",
    "# Calculate the correlation between each attribute and popularity\n",
    "correlations = per_artist_summary_df.corr()['Likes']\n",
    "print(correlations)"
   ]
  },
  {
   "cell_type": "code",
   "execution_count": null,
   "id": "c9021909",
   "metadata": {},
   "outputs": [],
   "source": [
    "# Picked out a couple of attributes with good coralation for inclusing into presentation\n",
    "ax = per_artist_summary_df.plot.scatter(y='Likes', x='Liveness')\n",
    "z = np.polyfit(per_artist_summary_df['Liveness'], per_artist_summary_df['Likes'], 1)\n",
    "p = np.poly1d(z)\n",
    "plt.plot(per_artist_summary_df['Liveness'], p(per_artist_summary_df['Liveness']), \"r--\")\n",
    "r_squared = np.corrcoef(per_artist_summary_df['Liveness'], per_artist_summary_df['Likes'])[0][1] ** 2\n",
    "plt.legend(('R²=%.2f' % (r_squared), 'regression'), loc='upper center')\n",
    "plt.savefig('./Images/artist_liveness_plot.png')\n",
    "plt.show()"
   ]
  },
  {
   "cell_type": "code",
   "execution_count": null,
   "id": "3afa6463",
   "metadata": {},
   "outputs": [],
   "source": [
    "# Picked out a couple of attributes with good coralation for inclusing into presentation\n",
    "ax = per_artist_summary_df.plot.scatter(y='Likes', x='Liveness')\n",
    "plt.savefig('./Images/artist_liveness_plot-1.png')\n",
    "plt.show()"
   ]
  },
  {
   "cell_type": "code",
   "execution_count": null,
   "id": "105c5894",
   "metadata": {},
   "outputs": [],
   "source": [
    "# Picked out a couple of attributes with good coralation for inclusing into presentation\n",
    "per_artist_summary_df.plot.scatter(y='Likes', x='Valence')\n",
    "z = np.polyfit(per_artist_summary_df['Valence'], per_artist_summary_df['Likes'], 1)\n",
    "p = np.poly1d(z)\n",
    "plt.plot(per_artist_summary_df['Valence'], p(per_artist_summary_df['Valence']), \"r--\")\n",
    "r_squared = np.corrcoef(per_artist_summary_df['Valence'], per_artist_summary_df['Likes'])[0][1] ** 2\n",
    "plt.legend(('R²=%.2f' % (r_squared), 'regression'), loc='upper center')\n",
    "plt.savefig('./Images/artist_Valence_plot.png')\n",
    "plt.show()"
   ]
  },
  {
   "cell_type": "code",
   "execution_count": null,
   "id": "89d9d611",
   "metadata": {},
   "outputs": [],
   "source": [
    "# Picked out a couple of attributes with good coralation for inclusing into presentation\n",
    "per_artist_summary_df.plot.scatter(y='Likes', x='Valence')\n",
    "plt.savefig('./Images/artist_Valence_plot-1.png')\n",
    "plt.show()"
   ]
  },
  {
   "cell_type": "code",
   "execution_count": null,
   "id": "bac43b51",
   "metadata": {},
   "outputs": [],
   "source": [
    "# Picked out a couple of attributes with good coralation for inclusing into presentation\n",
    "per_artist_summary_df.plot.scatter(y='Likes', x='Speechiness')\n",
    "z = np.polyfit(per_artist_summary_df['Speechiness'], per_artist_summary_df['Likes'], 1)\n",
    "p = np.poly1d(z)\n",
    "plt.plot(per_artist_summary_df['Speechiness'], p(per_artist_summary_df['Speechiness']), \"r--\")\n",
    "r_squared = np.corrcoef(per_artist_summary_df['Speechiness'], per_artist_summary_df['Likes'])[0][1] ** 2\n",
    "plt.legend(('R²=%.2f' % (r_squared), 'regression'), loc='upper right')\n",
    "plt.savefig('./Images/artist_speachiness_plot.png')\n",
    "plt.show()"
   ]
  },
  {
   "cell_type": "code",
   "execution_count": null,
   "id": "156baaab",
   "metadata": {},
   "outputs": [],
   "source": [
    "# Picked out a couple of attributes with good coralation for inclusing into presentation\n",
    "per_artist_summary_df.plot.scatter(y='Likes', x='Speechiness')\n",
    "plt.savefig('./Images/artist_speachiness_plot-1.png')\n",
    "plt.show()"
   ]
  },
  {
   "cell_type": "code",
   "execution_count": null,
   "id": "dc354820",
   "metadata": {},
   "outputs": [],
   "source": []
  }
 ],
 "metadata": {
  "kernelspec": {
   "display_name": "Python 3 (ipykernel)",
   "language": "python",
   "name": "python3"
  },
  "language_info": {
   "codemirror_mode": {
    "name": "ipython",
    "version": 3
   },
   "file_extension": ".py",
   "mimetype": "text/x-python",
   "name": "python",
   "nbconvert_exporter": "python",
   "pygments_lexer": "ipython3",
   "version": "3.10.9"
  }
 },
 "nbformat": 4,
 "nbformat_minor": 5
}
