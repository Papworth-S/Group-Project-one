{
 "cells": [
  {
   "cell_type": "code",
   "execution_count": null,
   "id": "1f555864",
   "metadata": {},
   "outputs": [],
   "source": [
    "import pandas as pd\n",
    "import numpy as np\n",
    "import matplotlib.pyplot as plt\n"
   ]
  },
  {
   "cell_type": "code",
   "execution_count": null,
   "id": "f5134f14",
   "metadata": {},
   "outputs": [],
   "source": [
    "songs_base_df = pd.read_csv(\"./Resources/Spotify_Youtube.csv\")\n",
    "songs_base_df.head()"
   ]
  },
  {
   "cell_type": "code",
   "execution_count": null,
   "id": "f58e31e3",
   "metadata": {},
   "outputs": [],
   "source": [
    "# songs_base_df.columns"
   ]
  },
  {
   "cell_type": "code",
   "execution_count": null,
   "id": "7e2d47ab",
   "metadata": {},
   "outputs": [],
   "source": [
    "songs_cleaned_df = songs_base_df.drop(columns='Unnamed: 0')\n",
    "print(songs_cleaned_df.columns)\n",
    "songs_cleaned_df.head()"
   ]
  },
  {
   "cell_type": "code",
   "execution_count": null,
   "id": "77215085",
   "metadata": {},
   "outputs": [],
   "source": [
    "print(songs_cleaned_df.dtypes)"
   ]
  },
  {
   "cell_type": "code",
   "execution_count": null,
   "id": "424b4000",
   "metadata": {},
   "outputs": [],
   "source": [
    "#This is removing any object column that dosn't help with plots\n",
    "songs_reduced_df = songs_base_df.drop(columns=['Unnamed: 0', 'Url_spotify', 'Album_type', 'Uri', 'Url_youtube', \n",
    "                                     'Title', 'Channel', 'Description', 'Licensed', 'official_video'])\n",
    "print(songs_reduced_df.dtypes)\n",
    "songs_reduced_df"
   ]
  },
  {
   "cell_type": "code",
   "execution_count": null,
   "id": "3d8e0222",
   "metadata": {},
   "outputs": [],
   "source": [
    "songs_reduced_df.isna().any()"
   ]
  },
  {
   "cell_type": "code",
   "execution_count": null,
   "id": "8044aff8",
   "metadata": {},
   "outputs": [],
   "source": [
    "#Looking for NaNs\n",
    "songs_reduced_df.count()"
   ]
  },
  {
   "cell_type": "code",
   "execution_count": null,
   "id": "3365892d",
   "metadata": {},
   "outputs": [],
   "source": [
    "##Cleaned all columns with NaN \n",
    "##This is our Baseline DataFrame --no long a top 10 per artest dataframe\n",
    "songs_reduced_noNaN = songs_reduced_df.dropna(how='any') #['Likes']\n",
    "songs_reduced_noNaN.count()"
   ]
  },
  {
   "cell_type": "code",
   "execution_count": null,
   "id": "fe8f9cb1",
   "metadata": {},
   "outputs": [],
   "source": [
    "top_100_liked_df = songs_reduced_noNaN.sort_values('Likes',ascending=False)\n",
    "top_100_liked_df = top_100_liked_df.head(100)\n",
    "top_100_liked_df"
   ]
  },
  {
   "cell_type": "code",
   "execution_count": null,
   "id": "e8f2e946",
   "metadata": {},
   "outputs": [],
   "source": [
    "top_100_liked_df.value_counts(subset='Artist')"
   ]
  },
  {
   "cell_type": "code",
   "execution_count": null,
   "id": "52e07f21",
   "metadata": {},
   "outputs": [],
   "source": [
    "##not all are devided by 10 with using the _noNaN dataframe but has correct ratio\n",
    "mean_artist_likes = songs_reduced_noNaN.groupby([\"Artist\"])[\"Likes\"].agg('mean')\n",
    "# mean_artist_likes"
   ]
  },
  {
   "cell_type": "code",
   "execution_count": null,
   "id": "6cc71963",
   "metadata": {},
   "outputs": [],
   "source": [
    "artist_likes_summary = pd.DataFrame(\n",
    "                        {\"Average Likes\": mean_artist_likes,\n",
    "                         })\n",
    "artist_likes_summary.sort_values('Average Likes', ascending=False)"
   ]
  },
  {
   "cell_type": "code",
   "execution_count": null,
   "id": "37bd619e",
   "metadata": {},
   "outputs": [],
   "source": [
    "##show how many of the rows have at least one Null \n",
    "songs_reduced_df[songs_reduced_df.isna().any(axis=1)]  "
   ]
  },
  {
   "cell_type": "code",
   "execution_count": null,
   "id": "16c7d657",
   "metadata": {},
   "outputs": [],
   "source": [
    "#####################################################################################################\n",
    "######################################################################################################"
   ]
  },
  {
   "cell_type": "code",
   "execution_count": null,
   "id": "591bce8b",
   "metadata": {},
   "outputs": [],
   "source": [
    "#This is pulled from the top 100 tracks some artist had more than one track on the top 100 likes\n",
    "#This is a summary table\n",
    "per_artist_summary = top_100_liked_df.groupby(['Artist']).agg({'Likes':'mean','Valence':'mean','Speechiness':'mean',\n",
    "                                                           'Acousticness':'mean','Instrumentalness':'mean','Liveness':'mean',\n",
    "                                                           'Energy':'mean'})\n",
    "per_artist_summary_df = per_artist_summary.sort_values('Likes',ascending=False)\n",
    "per_artist_summary_df = per_artist_summary_df.reset_index()\n",
    "per_artist_summary_df"
   ]
  },
  {
   "cell_type": "code",
   "execution_count": null,
   "id": "89c86956",
   "metadata": {},
   "outputs": [],
   "source": [
    "#A df of the top liked tracks per artist no duplicate no dups\n",
    "top_artist_track = songs_reduced_noNaN.sort_values('Likes',ascending=False).drop_duplicates(subset=['Artist'],keep='first')\n",
    "top_artist_track = top_artist_track.drop_duplicates(subset=['Track'],keep='first')\n",
    "top_artist_track.reset_index(inplace=True)\n",
    "top_artist_track"
   ]
  },
  {
   "cell_type": "code",
   "execution_count": null,
   "id": "3d0987de",
   "metadata": {},
   "outputs": [],
   "source": [
    "top_artist_track.to_csv(\"Resources/ArtistTopTrack.csv\", index=False, header=True)"
   ]
  },
  {
   "cell_type": "code",
   "execution_count": null,
   "id": "ba9c12d6",
   "metadata": {},
   "outputs": [],
   "source": [
    "#####################################################################################################\n",
    "######################################################################################################"
   ]
  },
  {
   "cell_type": "markdown",
   "id": "ed4f2ba3",
   "metadata": {},
   "source": [
    "### Here is where we would type our qeustions befor the charts and add explanation to the charts...\n",
    "## Heading\n",
    "# Heading\n",
    "- bullet"
   ]
  },
  {
   "cell_type": "code",
   "execution_count": null,
   "id": "d5f13c99",
   "metadata": {},
   "outputs": [],
   "source": [
    "artist_toptrack_df = pd.read_csv(\"./Resources/ArtistTopTrack.csv\")\n",
    "artist_toptrack_df = artist_toptrack_df.drop(columns='index')\n",
    "artist_toptrack_df.head()"
   ]
  },
  {
   "cell_type": "code",
   "execution_count": null,
   "id": "5a98a95c",
   "metadata": {},
   "outputs": [],
   "source": [
    "artist_and_likes = artist_toptrack_df[[\"Artist\",\"Likes\"]]\n",
    "artist_and_likes = artist_and_likes.set_index(\"Artist\")\n",
    "#print(artist_and_likes.head(50))\n",
    "artist_and_likes_top100 = artist_and_likes.head(50)\n",
    "#print(artist_and_likes.tail(50))\n",
    "artist_and_likes_bottom100 = artist_and_likes.tail(50)"
   ]
  },
  {
   "cell_type": "code",
   "execution_count": null,
   "id": "15cf1dee",
   "metadata": {},
   "outputs": [],
   "source": [
    "artist_and_likes_top100.plot(kind=\"bar\", figsize=(10,3.5))\n",
    "plt.title(\"Top 50 Artist by Likes\")\n",
    "plt.ylabel('Likes (Million)')\n",
    "#plt.tight_layout()\n",
    "plt.savefig('./Images/Artist-Line-Top-50.png')\n",
    "plt.show()"
   ]
  },
  {
   "cell_type": "code",
   "execution_count": null,
   "id": "fff9a2f6",
   "metadata": {},
   "outputs": [],
   "source": [
    "artist_and_likes_bottom100.plot(kind=\"bar\", figsize=(10,3.5))\n",
    "plt.title(\"Bottom 50 Artist by Likes\")\n",
    "plt.ylabel('Likes')\n",
    "plt.savefig('./Images/Artist-Line-Bottom-50.png')\n",
    "#plt.tight_layout()\n",
    "plt.show()"
   ]
  },
  {
   "cell_type": "code",
   "execution_count": null,
   "id": "01901968",
   "metadata": {},
   "outputs": [],
   "source": [
    "# artist_and_likes.plot(kind=\"bar\")  #figsize=(20,3.5))  getting error for Joey Bada$$ \n",
    "# plt.show()"
   ]
  },
  {
   "cell_type": "code",
   "execution_count": null,
   "id": "aee5281d",
   "metadata": {},
   "outputs": [],
   "source": [
    "ax = artist_and_likes_top100.plot(kind=\"barh\", figsize=(5,10), legend=False)\n",
    "plt.title(\"Top 50 Artist by Likes\")\n",
    "plt.xlabel('Likes (Millions)')\n",
    "ax.invert_yaxis()\n",
    "plt.tight_layout()\n",
    "plt.savefig('./Images/Artist-Line-Top-50-vert.png')\n",
    "plt.show()"
   ]
  },
  {
   "cell_type": "code",
   "execution_count": null,
   "id": "201d501f",
   "metadata": {},
   "outputs": [],
   "source": [
    "ax = artist_and_likes_bottom100.plot(kind=\"barh\", figsize=(5,10), legend=False)\n",
    "plt.title(\"Top 50 Artist by Likes\")\n",
    "plt.xlabel('Likes')\n",
    "ax.invert_yaxis()\n",
    "plt.tight_layout()\n",
    "plt.savefig('./Images/Artist-Line-Bottom-50-vert.png')\n",
    "plt.show()"
   ]
  },
  {
   "cell_type": "code",
   "execution_count": null,
   "id": "d83a7633",
   "metadata": {},
   "outputs": [],
   "source": []
  }
 ],
 "metadata": {
  "kernelspec": {
   "display_name": "Python Data",
   "language": "python",
   "name": "pythondata"
  },
  "language_info": {
   "codemirror_mode": {
    "name": "ipython",
    "version": 3
   },
   "file_extension": ".py",
   "mimetype": "text/x-python",
   "name": "python",
   "nbconvert_exporter": "python",
   "pygments_lexer": "ipython3",
   "version": "3.10.9"
  }
 },
 "nbformat": 4,
 "nbformat_minor": 5
}
