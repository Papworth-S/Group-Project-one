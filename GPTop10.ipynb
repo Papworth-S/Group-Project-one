{
 "cells": [
  {
   "cell_type": "code",
   "execution_count": null,
   "id": "a1286291",
   "metadata": {},
   "outputs": [],
   "source": [
    "import pandas as pd\n",
    "import numpy as np\n",
    "import matplotlib.pyplot as plt\n"
   ]
  },
  {
   "cell_type": "code",
   "execution_count": null,
   "id": "761e81d2",
   "metadata": {},
   "outputs": [],
   "source": [
    "songs_base_df = pd.read_csv(\"./Resources/Spotify_Youtube.csv\")\n",
    "songs_base_df.head()"
   ]
  },
  {
   "cell_type": "code",
   "execution_count": null,
   "id": "20a77d37",
   "metadata": {},
   "outputs": [],
   "source": [
    "# songs_base_df.columns"
   ]
  },
  {
   "cell_type": "code",
   "execution_count": null,
   "id": "c244d209",
   "metadata": {},
   "outputs": [],
   "source": [
    "songs_cleaned_df = songs_base_df.drop(columns='Unnamed: 0')\n",
    "print(songs_cleaned_df.columns)\n",
    "songs_cleaned_df.head()"
   ]
  },
  {
   "cell_type": "code",
   "execution_count": null,
   "id": "a6824e24",
   "metadata": {},
   "outputs": [],
   "source": [
    "print(songs_cleaned_df.dtypes)"
   ]
  },
  {
   "cell_type": "code",
   "execution_count": null,
   "id": "d1655b57",
   "metadata": {},
   "outputs": [],
   "source": [
    "#This is removing any object column that dosn't help with plots\n",
    "songs_reduced_df = songs_base_df.drop(columns=['Unnamed: 0', 'Url_spotify', 'Album_type', 'Uri', 'Url_youtube', \n",
    "                                     'Title', 'Channel', 'Description', 'Licensed', 'official_video'])\n",
    "print(songs_reduced_df.dtypes)\n",
    "songs_reduced_df"
   ]
  },
  {
   "cell_type": "code",
   "execution_count": null,
   "id": "25d61df1",
   "metadata": {},
   "outputs": [],
   "source": [
    "songs_reduced_df.isna().any()"
   ]
  },
  {
   "cell_type": "code",
   "execution_count": null,
   "id": "dbf98304",
   "metadata": {},
   "outputs": [],
   "source": [
    "#Looking for NaNs\n",
    "songs_reduced_df.count()"
   ]
  },
  {
   "cell_type": "code",
   "execution_count": null,
   "id": "22c661ce",
   "metadata": {},
   "outputs": [],
   "source": [
    "##Cleaned all columns with NaN \n",
    "##This is our Baseline DataFrame --no long a top 10 per artest dataframe\n",
    "songs_reduced_noNaN = songs_reduced_df.dropna(how='any') #['Likes']\n",
    "songs_reduced_noNaN.count()"
   ]
  },
  {
   "cell_type": "code",
   "execution_count": null,
   "id": "2d927c73",
   "metadata": {},
   "outputs": [],
   "source": [
    "top_100_liked_df = songs_reduced_noNaN.sort_values('Likes',ascending=False)\n",
    "top_100_liked_df = top_100_liked_df.head(100)\n",
    "top_100_liked_df"
   ]
  },
  {
   "cell_type": "code",
   "execution_count": null,
   "id": "69331a8d",
   "metadata": {},
   "outputs": [],
   "source": [
    "top_100_liked_df.value_counts(subset='Artist')"
   ]
  },
  {
   "cell_type": "code",
   "execution_count": null,
   "id": "07238795",
   "metadata": {},
   "outputs": [],
   "source": [
    "##not all are devided by 10 with using the _noNaN dataframe but has correct ratio\n",
    "mean_artist_likes = songs_reduced_noNaN.groupby([\"Artist\"])[\"Likes\"].agg('mean')\n",
    "# mean_artist_likes"
   ]
  },
  {
   "cell_type": "code",
   "execution_count": null,
   "id": "1d7d4aa2",
   "metadata": {},
   "outputs": [],
   "source": [
    "artist_likes_summary = pd.DataFrame(\n",
    "                        {\"Average Likes\": mean_artist_likes,\n",
    "                         })\n",
    "artist_likes_summary.sort_values('Average Likes', ascending=False)"
   ]
  },
  {
   "cell_type": "code",
   "execution_count": null,
   "id": "7a6d41a2",
   "metadata": {},
   "outputs": [],
   "source": [
    "##show how many of the rows have at least one Null \n",
    "songs_reduced_df[songs_reduced_df.isna().any(axis=1)]  "
   ]
  },
  {
   "cell_type": "code",
   "execution_count": null,
   "id": "372c23b4",
   "metadata": {},
   "outputs": [],
   "source": [
    "#This is pulled from the top 100 tracks some artist had more than one track on the top 100 likes\n",
    "#This is a summary table\n",
    "per_artist_summary = top_100_liked_df.groupby(['Artist']).agg({'Likes':'mean','Valence':'mean','Speechiness':'mean',\n",
    "                                                           'Acousticness':'mean','Instrumentalness':'mean','Liveness':'mean',\n",
    "                                                           'Energy':'mean'})\n",
    "per_artist_summary_df = per_artist_summary.sort_values('Likes',ascending=False)\n",
    "per_artist_summary_df = per_artist_summary_df.reset_index()\n",
    "per_artist_summary_df"
   ]
  },
  {
   "cell_type": "code",
   "execution_count": null,
   "id": "47c13f18",
   "metadata": {},
   "outputs": [],
   "source": [
    "#A df of the top liked tracks per artist no duplicate no dups\n",
    "top_artist_track = songs_reduced_noNaN.sort_values('Likes',ascending=False).drop_duplicates(subset=['Artist'],keep='first')\n",
    "top_artist_track = top_artist_track.drop_duplicates(subset=['Track'],keep='first')\n",
    "top_artist_track.reset_index(inplace=True)\n",
    "top_artist_track"
   ]
  },
  {
   "cell_type": "code",
   "execution_count": null,
   "id": "b3d8fa9e",
   "metadata": {},
   "outputs": [],
   "source": [
    "top_artist_track.to_csv(\"Resources/ArtistTopTrack.csv\", index=False, header=True)"
   ]
  },
  {
   "cell_type": "code",
   "execution_count": null,
   "id": "9e4a8be1",
   "metadata": {},
   "outputs": [],
   "source": [
    "#####################################################################################################\n",
    "#####################################################################################################"
   ]
  },
  {
   "cell_type": "code",
   "execution_count": null,
   "id": "26bc9322",
   "metadata": {},
   "outputs": [],
   "source": [
    "artist_toptrack_df = pd.read_csv(\"./Resources/ArtistTopTrack.csv\")\n",
    "artist_toptrack_df = artist_toptrack_df.drop(columns='index')\n",
    "artist_toptrack_df.head()"
   ]
  },
  {
   "cell_type": "code",
   "execution_count": null,
   "id": "946ff1a5",
   "metadata": {},
   "outputs": [],
   "source": [
    "artist_and_likes = artist_toptrack_df[[\"Artist\",\"Likes\"]]\n",
    "artist_and_likes = artist_and_likes.set_index(\"Artist\")\n",
    "#print(artist_and_likes.head(50))\n",
    "artist_and_likes_top100 = artist_and_likes.head(50)\n",
    "#print(artist_and_likes.tail(50))\n",
    "artist_and_likes_bottom100 = artist_and_likes.tail(50)"
   ]
  },
  {
   "cell_type": "code",
   "execution_count": null,
   "id": "971f8efa",
   "metadata": {},
   "outputs": [],
   "source": [
    "artist_and_likes_top100.plot(kind=\"bar\", figsize=(10,5))\n",
    "plt.title(\"Top 50 Artist by Likes\")\n",
    "plt.ylabel('Likes (Million)')\n",
    "plt.tight_layout()\n",
    "plt.savefig('./Images/Artist-Line-Top-50.png')\n",
    "plt.show()"
   ]
  },
  {
   "cell_type": "code",
   "execution_count": null,
   "id": "41c4e1b2",
   "metadata": {},
   "outputs": [],
   "source": [
    "artist_and_likes_bottom100.plot(kind=\"bar\", figsize=(10,5))\n",
    "plt.title(\"Bottom 50 Artist by Likes\")\n",
    "plt.ylabel('Likes')\n",
    "plt.tight_layout()\n",
    "plt.savefig('./Images/Artist-Line-Bottom-50.png')\n",
    "plt.show()"
   ]
  },
  {
   "cell_type": "code",
   "execution_count": null,
   "id": "126ccb40",
   "metadata": {},
   "outputs": [],
   "source": [
    "# artist_and_likes.plot(kind=\"bar\")  #figsize=(20,3.5))  getting error for Joey Bada$$ \n",
    "# plt.show()"
   ]
  },
  {
   "cell_type": "code",
   "execution_count": null,
   "id": "0f089cd0",
   "metadata": {},
   "outputs": [],
   "source": [
    "ax = artist_and_likes_top100.plot(kind=\"barh\", figsize=(5,10), legend=False)\n",
    "plt.title(\"Top 50 Artist by Likes\")\n",
    "plt.xlabel('Likes (Millions)')\n",
    "ax.invert_yaxis()\n",
    "plt.tight_layout()\n",
    "plt.savefig('./Images/Artist-Line-Top-50-vert.png')\n",
    "plt.show()"
   ]
  },
  {
   "cell_type": "code",
   "execution_count": null,
   "id": "d5996cc6",
   "metadata": {},
   "outputs": [],
   "source": [
    "ax = artist_and_likes_bottom100.plot(kind=\"barh\", figsize=(5,10), legend=False)\n",
    "plt.title(\"Top 50 Artist by Likes\")\n",
    "plt.xlabel('Likes')\n",
    "ax.invert_yaxis()\n",
    "plt.tight_layout()\n",
    "plt.savefig('./Images/Artist-Line-Bottom-50-vert.png')\n",
    "plt.show()"
   ]
  },
  {
   "cell_type": "code",
   "execution_count": null,
   "id": "e0d867ef",
   "metadata": {},
   "outputs": [],
   "source": [
    "artist_and_likes.reset_index(inplace=True)"
   ]
  },
  {
   "cell_type": "code",
   "execution_count": null,
   "id": "69ed9631",
   "metadata": {},
   "outputs": [],
   "source": [
    "artist_and_likes['Artist'] = artist_and_likes['Artist'].str.replace('$', '\\$')"
   ]
  },
  {
   "cell_type": "code",
   "execution_count": null,
   "id": "51115c6a",
   "metadata": {},
   "outputs": [],
   "source": [
    "# artist_and_likes = artist_and_likes.set_index(\"Artist\")\n",
    "# artist_and_likes.plot(kind=\"bar\") #figsize=(10,3.5))"
   ]
  },
  {
   "cell_type": "code",
   "execution_count": null,
   "id": "7a00f5a0",
   "metadata": {},
   "outputs": [],
   "source": [
    "ax = per_artist_summary_df.plot.scatter(y='Likes', x='Speechiness', color='green')\n",
    "# Add the rest of the attributes to the scatter plot to the first one\n",
    "per_artist_summary_df.plot.scatter(y='Likes', x='Liveness', color='blue', ax=ax)\n",
    "per_artist_summary_df.plot.scatter(y='Likes', x='Valence', color='red', ax=ax)\n",
    "per_artist_summary_df.plot.scatter(y='Likes', x='Energy', color='orange', ax=ax)\n",
    "per_artist_summary_df.plot.scatter(y='Likes', x='Acousticness', color='yellow', ax=ax)\n",
    "per_artist_summary_df.plot.scatter(y='Likes', x='Instrumentalness', color='violet', ax=ax)\n",
    "# Set the x and y -axis label\n",
    "ax.set_xlabel('Track Attributes')\n",
    "ax.set_ylabel('Popularity')\n",
    "# Add a legend in the upper left quadrant\n",
    "ax.legend(['Valence', 'Liveness', 'Speechiness', 'Energy', 'Acousticness', 'Instrumentalness'], \n",
    "          loc='upper left', bbox_to_anchor=(.35, 1))\n",
    "plt.savefig('./Images/artist_summary_plot.png')\n",
    "plt.show()\n",
    "# Calculate the correlation between each attribute and popularity\n",
    "correlations = per_artist_summary_df.corr()['Likes']\n",
    "print(correlations)"
   ]
  },
  {
   "cell_type": "code",
   "execution_count": null,
   "id": "f1c1ebbd",
   "metadata": {},
   "outputs": [],
   "source": [
    "ax = per_artist_summary_df.plot.scatter(y='Likes', x='Liveness')\n",
    "plt.savefig('./Images/artist_liveness_plot.png')\n",
    "plt.show()"
   ]
  },
  {
   "cell_type": "code",
   "execution_count": null,
   "id": "db99a101",
   "metadata": {},
   "outputs": [],
   "source": [
    "per_artist_summary_df.plot.scatter(y='Likes', x='Valence')\n",
    "plt.savefig('./Images/artist_Valence_plot.png')\n",
    "plt.show()"
   ]
  },
  {
   "cell_type": "code",
   "execution_count": null,
   "id": "906b32b9",
   "metadata": {},
   "outputs": [],
   "source": [
    "per_artist_summary_df.plot.scatter(y='Likes', x='Speechiness')\n",
    "plt.savefig('./Images/artist_speachiness_plot.png')\n",
    "plt.show()"
   ]
  },
  {
   "cell_type": "code",
   "execution_count": null,
   "id": "d4f906c9",
   "metadata": {},
   "outputs": [],
   "source": []
  }
 ],
 "metadata": {
  "kernelspec": {
   "display_name": "Python Data",
   "language": "python",
   "name": "pythondata"
  },
  "language_info": {
   "codemirror_mode": {
    "name": "ipython",
    "version": 3
   },
   "file_extension": ".py",
   "mimetype": "text/x-python",
   "name": "python",
   "nbconvert_exporter": "python",
   "pygments_lexer": "ipython3",
   "version": "3.10.9"
  }
 },
 "nbformat": 4,
 "nbformat_minor": 5
}
