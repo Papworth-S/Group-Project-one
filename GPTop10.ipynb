{
 "cells": [
  {
   "cell_type": "code",
   "execution_count": null,
   "id": "f98108af",
   "metadata": {},
   "outputs": [],
   "source": [
    "# Import the needed libraries and modueles for the data cleaning effort\n",
    "import pandas as pd\n",
    "import numpy as np\n",
    "import matplotlib.pyplot as plt"
   ]
  },
  {
   "cell_type": "code",
   "execution_count": null,
   "id": "9afe535f",
   "metadata": {},
   "outputs": [],
   "source": [
    "# Downloaded a CSV file from Kaggle.com Title Top 10 Spotify and YouTube\n",
    "# Statistics for the Top 10 songs of various Spotify artists and their yt video.\n",
    "\n",
    "songs_base_df = pd.read_csv(\"./Resources/Spotify_Youtube.csv\")\n",
    "songs_base_df.head()"
   ]
  },
  {
   "cell_type": "code",
   "execution_count": null,
   "id": "abff2ad0",
   "metadata": {},
   "outputs": [],
   "source": [
    "# The CSV file had and index so need to remove that column\n",
    "songs_cleaned_df = songs_base_df.drop(columns='Unnamed: 0')\n",
    "print(songs_cleaned_df.columns)\n",
    "songs_cleaned_df.head()"
   ]
  },
  {
   "cell_type": "code",
   "execution_count": null,
   "id": "75a9d665",
   "metadata": {},
   "outputs": [],
   "source": [
    "#Need to see the different data types of the columns\n",
    "print(songs_cleaned_df.dtypes)"
   ]
  },
  {
   "cell_type": "code",
   "execution_count": null,
   "id": "2532c7a8",
   "metadata": {},
   "outputs": [],
   "source": [
    "#This is removing any object column that dosn't help with plots\n",
    "songs_reduced_df = songs_base_df.drop(columns=['Unnamed: 0', 'Url_spotify', 'Album_type', 'Uri', 'Url_youtube', \n",
    "                                     'Title', 'Channel', 'Description', 'Licensed', 'official_video'])\n",
    "print(songs_reduced_df.dtypes)\n",
    "songs_reduced_df.head()"
   ]
  },
  {
   "cell_type": "code",
   "execution_count": null,
   "id": "c6c157d9",
   "metadata": {},
   "outputs": [],
   "source": [
    "# Decision point \n",
    "# We decided to reduce that dataset to nothing with an NaN.  We looked for which \n",
    "# columns had NaN and decide to drop all with NaN\n",
    "songs_reduced_df.isna().any()"
   ]
  },
  {
   "cell_type": "code",
   "execution_count": null,
   "id": "7f257beb",
   "metadata": {},
   "outputs": [],
   "source": [
    "#Looking for NaNs\n",
    "songs_reduced_df.count()"
   ]
  },
  {
   "cell_type": "code",
   "execution_count": null,
   "id": "1f80ff28",
   "metadata": {},
   "outputs": [],
   "source": [
    "# Which rows are going to get removed\n",
    "songs_reduced_df[songs_reduced_df.isna().any(axis=1)]  "
   ]
  },
  {
   "cell_type": "code",
   "execution_count": null,
   "id": "c8289464",
   "metadata": {},
   "outputs": [],
   "source": [
    "# Removed all columns with NaN \n",
    "# This became our Baseline Data Frame --no long a top 10 per artest data frame\n",
    "songs_reduced_noNaN = songs_reduced_df.dropna(how='any') #['Likes']\n",
    "songs_reduced_noNaN.count()"
   ]
  },
  {
   "cell_type": "code",
   "execution_count": null,
   "id": "e1d00a4a",
   "metadata": {},
   "outputs": [],
   "source": [
    "# From the noNaN data frame we sorted by 'Likes' and created a data frame of the top 100\n",
    "top_100_liked_df = songs_reduced_noNaN.sort_values('Likes',ascending=False)\n",
    "top_100_liked_df = top_100_liked_df.head(100)\n",
    "top_100_liked_df"
   ]
  },
  {
   "cell_type": "code",
   "execution_count": null,
   "id": "798445aa",
   "metadata": {},
   "outputs": [],
   "source": [
    "# We wanted to see how many of the top 100 liked songs were from the same artist\n",
    "top_100_liked_df.value_counts(subset='Artist')"
   ]
  },
  {
   "cell_type": "code",
   "execution_count": null,
   "id": "f5258a68",
   "metadata": {},
   "outputs": [],
   "source": [
    "# Not all are divided by 10 with using the _noNaN data frame but has correct ratio\n",
    "# This is a little explorative code if we were going to expand to all of the artist and what their average likes were \n",
    "# creating the beginning of a new data frame instead of using the top 100.  We went with top 100\n",
    "mean_artist_likes = songs_reduced_noNaN.groupby([\"Artist\"])[\"Likes\"].agg('mean')\n",
    "mean_artist_likes"
   ]
  },
  {
   "cell_type": "code",
   "execution_count": null,
   "id": "df4cacce",
   "metadata": {},
   "outputs": [],
   "source": [
    "# Created a data frame from the above aggregation\n",
    "artist_likes_summary = pd.DataFrame(\n",
    "                        {\"Average Likes\": mean_artist_likes,\n",
    "                         })\n",
    "artist_likes_summary.sort_values('Average Likes', ascending=False)"
   ]
  },
  {
   "cell_type": "code",
   "execution_count": null,
   "id": "4a76db02",
   "metadata": {},
   "outputs": [],
   "source": [
    "# This is pulled from the top 100 tracks some artist had more than one track on the top 100 likes\n",
    "# This is a the summary table we decided to use for our scatter plots\n",
    "per_artist_summary = top_100_liked_df.groupby(['Artist']).agg({'Likes':'mean','Valence':'mean','Speechiness':'mean',\n",
    "                                                           'Acousticness':'mean','Instrumentalness':'mean','Liveness':'mean',\n",
    "                                                           'Energy':'mean'})\n",
    "per_artist_summary_df = per_artist_summary.sort_values('Likes',ascending=False)\n",
    "per_artist_summary_df = per_artist_summary_df.reset_index()\n",
    "per_artist_summary_df"
   ]
  },
  {
   "cell_type": "code",
   "execution_count": null,
   "id": "1fe165e8",
   "metadata": {},
   "outputs": [],
   "source": [
    "# We have a need to create a second data set we can create some line charts with, but first \n",
    "# we want to reduce it to the top likes song per artist, so we removed duplicate artist keep the one with the most likes\n",
    "# and then removed duplicate track meaning the only artist that got credit per track\n",
    "top_artist_track = songs_reduced_noNaN.sort_values('Likes',ascending=False).drop_duplicates(subset=['Artist'],keep='first')\n",
    "top_artist_track = top_artist_track.drop_duplicates(subset=['Track'],keep='first')\n",
    "top_artist_track.reset_index(inplace=True)\n",
    "top_artist_track"
   ]
  },
  {
   "cell_type": "code",
   "execution_count": null,
   "id": "5920f924",
   "metadata": {},
   "outputs": [],
   "source": [
    "# We then saved both of the wanted data frames into a CSV file and saved them to another directory\n",
    "# This is the end of the data clean up and creation of data frame for use in the analysis notebook\n",
    "top_artist_track.to_csv(\"Resources/ArtistTopTrack.csv\", index=False, header=True)\n",
    "per_artist_summary_df.to_csv(\"Resources/PerArtistSummary.csv\", index=False, header=True)"
   ]
  },
  {
   "cell_type": "code",
   "execution_count": null,
   "id": "43a7f54f",
   "metadata": {},
   "outputs": [],
   "source": []
  }
 ],
 "metadata": {
  "kernelspec": {
   "display_name": "Python Data",
   "language": "python",
   "name": "pythondata"
  },
  "language_info": {
   "codemirror_mode": {
    "name": "ipython",
    "version": 3
   },
   "file_extension": ".py",
   "mimetype": "text/x-python",
   "name": "python",
   "nbconvert_exporter": "python",
   "pygments_lexer": "ipython3",
   "version": "3.10.9"
  }
 },
 "nbformat": 4,
 "nbformat_minor": 5
}
