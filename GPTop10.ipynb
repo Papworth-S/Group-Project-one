{
 "cells": [
  {
   "cell_type": "code",
   "execution_count": null,
   "id": "207acb21",
   "metadata": {},
   "outputs": [],
   "source": [
    "import pandas as pd\n",
    "import numpy as np\n",
    "import matplotlib.pyplot as plt\n"
   ]
  },
  {
   "cell_type": "code",
   "execution_count": null,
   "id": "8ffe3d66",
   "metadata": {},
   "outputs": [],
   "source": [
    "songs_base_df = pd.read_csv(\"./Resources/Spotify_Youtube.csv\")\n",
    "songs_base_df.head()"
   ]
  },
  {
   "cell_type": "code",
   "execution_count": null,
   "id": "82475119",
   "metadata": {},
   "outputs": [],
   "source": [
    "# songs_base_df.columns"
   ]
  },
  {
   "cell_type": "code",
   "execution_count": null,
   "id": "41d087c3",
   "metadata": {},
   "outputs": [],
   "source": [
    "songs_cleaned_df = songs_base_df.drop(columns='Unnamed: 0')\n",
    "print(songs_cleaned_df.columns)\n",
    "songs_cleaned_df.head()"
   ]
  },
  {
   "cell_type": "code",
   "execution_count": null,
   "id": "f8643c86",
   "metadata": {},
   "outputs": [],
   "source": [
    "print(songs_cleaned_df.dtypes)\n"
   ]
  },
  {
   "cell_type": "code",
   "execution_count": null,
   "id": "0b08bb99",
   "metadata": {},
   "outputs": [],
   "source": [
    "#This is removing any object column that dosn't help with plots\n",
    "songs_reduced_df = songs_base_df.drop(columns=['Unnamed: 0', 'Url_spotify', 'Album_type', 'Uri', 'Url_youtube', \n",
    "                                     'Title', 'Channel', 'Description', 'Licensed', 'official_video'])\n",
    "print(songs_reduced_df.dtypes)\n",
    "songs_reduced_df"
   ]
  },
  {
   "cell_type": "code",
   "execution_count": null,
   "id": "3c727441",
   "metadata": {},
   "outputs": [],
   "source": [
    "# songs_cleaned_df.loc[:,'Comments']"
   ]
  },
  {
   "cell_type": "code",
   "execution_count": null,
   "id": "992a3162",
   "metadata": {},
   "outputs": [],
   "source": [
    "top_100_liked_df = songs_reduced_df.sort_values('Likes',ascending=False)\n",
    "top_100_liked_df = top_100_liked_df.head(100)\n",
    "top_100_liked_df"
   ]
  },
  {
   "cell_type": "code",
   "execution_count": null,
   "id": "45593a91",
   "metadata": {},
   "outputs": [],
   "source": [
    "##Cleaned all columns with NaN \n",
    "songs_reduced_noNaN = songs_reduced_df.dropna(how='any') #['Likes']\n",
    "songs_reduced_noNaN.count()"
   ]
  },
  {
   "cell_type": "code",
   "execution_count": null,
   "id": "42968378",
   "metadata": {},
   "outputs": [],
   "source": [
    "mean_artest_likes = songs_reduced_noNaN.groupby([\"Artist\"]).mean()[\"Likes\"]"
   ]
  },
  {
   "cell_type": "code",
   "execution_count": null,
   "id": "2498317e",
   "metadata": {},
   "outputs": [],
   "source": [
    "artest_likes_summary = pd.DataFrame(\n",
    "                        {\"Average Likes\": mean_artest_likes,\n",
    "                         })\n",
    "artest_likes_summary.sort_values('Average Likes', ascending=False)"
   ]
  },
  {
   "cell_type": "code",
   "execution_count": null,
   "id": "b5203c7f",
   "metadata": {},
   "outputs": [],
   "source": [
    "songs_reduced_df.isna().any()\n"
   ]
  },
  {
   "cell_type": "code",
   "execution_count": null,
   "id": "e1cecc18",
   "metadata": {},
   "outputs": [],
   "source": [
    "songs_reduced_df[songs_reduced_df.isna().any(axis=1)]  "
   ]
  },
  {
   "cell_type": "code",
   "execution_count": null,
   "id": "3c89f15e",
   "metadata": {},
   "outputs": [],
   "source": [
    "##looking for NaNs\n",
    "songs_reduced_df.count()"
   ]
  },
  {
   "cell_type": "code",
   "execution_count": null,
   "id": "7d2e07af",
   "metadata": {},
   "outputs": [],
   "source": [
    "##attempt to reduce just the Likes column and keep as many rows as possible --including other columns that may have NaN\n",
    "# songs_reduced_like = songs_reduced_df.dropna(subset=['Likes'])\n",
    "# songs_reduced_like.count()"
   ]
  },
  {
   "cell_type": "code",
   "execution_count": null,
   "id": "46e9bd70",
   "metadata": {},
   "outputs": [],
   "source": []
  }
 ],
 "metadata": {
  "kernelspec": {
   "display_name": "Python Data",
   "language": "python",
   "name": "pythondata"
  },
  "language_info": {
   "codemirror_mode": {
    "name": "ipython",
    "version": 3
   },
   "file_extension": ".py",
   "mimetype": "text/x-python",
   "name": "python",
   "nbconvert_exporter": "python",
   "pygments_lexer": "ipython3",
   "version": "3.10.9"
  }
 },
 "nbformat": 4,
 "nbformat_minor": 5
}
