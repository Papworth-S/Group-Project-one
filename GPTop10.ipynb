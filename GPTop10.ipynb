{
 "cells": [
  {
   "cell_type": "code",
   "execution_count": null,
   "id": "c805cc94",
   "metadata": {},
   "outputs": [],
   "source": [
    "import pandas as pd\n",
    "import numpy as np\n",
    "import matplotlib.pyplot as plt\n"
   ]
  },
  {
   "cell_type": "code",
   "execution_count": null,
   "id": "ad748326",
   "metadata": {},
   "outputs": [],
   "source": [
    "songs_base_df = pd.read_csv(\"./Resources/Spotify_Youtube.csv\")\n",
    "songs_base_df.head()"
   ]
  },
  {
   "cell_type": "code",
   "execution_count": null,
   "id": "bbfe775b",
   "metadata": {},
   "outputs": [],
   "source": [
    "# songs_base_df.columns"
   ]
  },
  {
   "cell_type": "code",
   "execution_count": null,
   "id": "c657ebd3",
   "metadata": {},
   "outputs": [],
   "source": [
    "songs_cleaned_df = songs_base_df.drop(columns='Unnamed: 0')\n",
    "print(songs_cleaned_df.columns)\n",
    "songs_cleaned_df.head()"
   ]
  },
  {
   "cell_type": "code",
   "execution_count": null,
   "id": "0c4967de",
   "metadata": {},
   "outputs": [],
   "source": [
    "print(songs_cleaned_df.dtypes)"
   ]
  },
  {
   "cell_type": "code",
   "execution_count": null,
   "id": "8ee68344",
   "metadata": {},
   "outputs": [],
   "source": [
    "#This is removing any object column that dosn't help with plots\n",
    "songs_reduced_df = songs_base_df.drop(columns=['Unnamed: 0', 'Url_spotify', 'Album_type', 'Uri', 'Url_youtube', \n",
    "                                     'Title', 'Channel', 'Description', 'Licensed', 'official_video'])\n",
    "print(songs_reduced_df.dtypes)\n",
    "songs_reduced_df"
   ]
  },
  {
   "cell_type": "code",
   "execution_count": null,
   "id": "ceaf6aa7",
   "metadata": {},
   "outputs": [],
   "source": [
    "songs_reduced_df.isna().any()"
   ]
  },
  {
   "cell_type": "code",
   "execution_count": null,
   "id": "ad37fec7",
   "metadata": {},
   "outputs": [],
   "source": [
    "#Looking for NaNs\n",
    "songs_reduced_df.count()"
   ]
  },
  {
   "cell_type": "code",
   "execution_count": null,
   "id": "d116869e",
   "metadata": {},
   "outputs": [],
   "source": [
    "##Cleaned all columns with NaN \n",
    "##This is our Baseline DataFrame --no long a top 10 per artest dataframe\n",
    "songs_reduced_noNaN = songs_reduced_df.dropna(how='any') #['Likes']\n",
    "songs_reduced_noNaN.count()"
   ]
  },
  {
   "cell_type": "code",
   "execution_count": null,
   "id": "fc9da69c",
   "metadata": {},
   "outputs": [],
   "source": [
    "top_100_liked_df = songs_reduced_noNaN.sort_values('Likes',ascending=False)\n",
    "top_100_liked_df = top_100_liked_df.head(100)\n",
    "top_100_liked_df"
   ]
  },
  {
   "cell_type": "code",
   "execution_count": null,
   "id": "6aa50821",
   "metadata": {},
   "outputs": [],
   "source": [
    "top_100_liked_df.value_counts(subset='Artist')"
   ]
  },
  {
   "cell_type": "code",
   "execution_count": null,
   "id": "b51989cc",
   "metadata": {},
   "outputs": [],
   "source": [
    "##not all are devided by 10 with using the _noNaN dataframe but has correct ratio\n",
    "mean_artist_likes = songs_reduced_noNaN.groupby([\"Artist\"])[\"Likes\"].agg('mean')\n",
    "# mean_artist_likes"
   ]
  },
  {
   "cell_type": "code",
   "execution_count": null,
   "id": "3d7bb00c",
   "metadata": {},
   "outputs": [],
   "source": [
    "artist_likes_summary = pd.DataFrame(\n",
    "                        {\"Average Likes\": mean_artist_likes,\n",
    "                         })\n",
    "artist_likes_summary.sort_values('Average Likes', ascending=False)"
   ]
  },
  {
   "cell_type": "code",
   "execution_count": null,
   "id": "c399763d",
   "metadata": {},
   "outputs": [],
   "source": [
    "##show how many of the rows have at least one Null \n",
    "songs_reduced_df[songs_reduced_df.isna().any(axis=1)]  "
   ]
  },
  {
   "cell_type": "code",
   "execution_count": null,
   "id": "c11af3d1",
   "metadata": {},
   "outputs": [],
   "source": [
    "#####################################################################################################\n",
    "######################################################################################################"
   ]
  },
  {
   "cell_type": "code",
   "execution_count": null,
   "id": "fca75ba2",
   "metadata": {},
   "outputs": [],
   "source": [
    "#This is pulled from the top 100 tracks some artist had more than one track on the top 100 likes\n",
    "#This is a summary table\n",
    "per_artist_summary = top_100_liked_df.groupby(['Artist']).agg({'Likes':'mean','Valence':'mean','Speechiness':'mean',\n",
    "                                                           'Acousticness':'mean','Instrumentalness':'mean','Liveness':'mean',\n",
    "                                                           'Energy':'mean'})\n",
    "per_artist_summary_df = per_artist_summary.sort_values('Likes',ascending=False)\n",
    "per_artist_summary_df = per_artist_summary_df.reset_index()\n",
    "per_artist_summary_df"
   ]
  },
  {
   "cell_type": "code",
   "execution_count": null,
   "id": "6e3e07ce",
   "metadata": {
    "scrolled": false
   },
   "outputs": [],
   "source": [
    "per_artist_summary_df.to_csv(per_artist_sum.csv, index=False)"
   ]
  },
  {
   "cell_type": "code",
   "execution_count": null,
   "id": "049f6d63",
   "metadata": {},
   "outputs": [],
   "source": [
    "#A df of the top liked tracks per artist no duplicate no dups\n",
    "top_artist_track = songs_reduced_noNaN.sort_values('Likes',ascending=False).drop_duplicates(subset=['Artist'],keep='first')\n",
    "#top_artist_track = top_artist_track.drop_duplicates(subset=['Track'],keep='first')\n",
    "top_artist_track.reset_index(inplace=True)\n",
    "top_artist_track"
   ]
  },
  {
   "cell_type": "markdown",
   "id": "e209185c",
   "metadata": {},
   "source": [
    "### Here is where we would type our qeustions befor the charts and add explanation to the charts...\n",
    "## Heading\n",
    "# Heading\n",
    "- bullet"
   ]
  },
  {
   "cell_type": "code",
   "execution_count": null,
   "id": "2b586780",
   "metadata": {
    "scrolled": true
   },
   "outputs": [],
   "source": [
    "print(per_artist_summary_df)\n",
    "\n"
   ]
  },
  {
   "cell_type": "code",
   "execution_count": null,
   "id": "e5797431",
   "metadata": {
    "scrolled": true
   },
   "outputs": [],
   "source": [
    "ax = per_artist_summary_df.plot.scatter(y='Likes', x='Speechiness', color='green')\n",
    "# Add the rest of the attributes to the scatter plot to the first one\n",
    "per_artist_summary_df.plot.scatter(y='Likes', x='Liveness', color='blue', ax=ax)\n",
    "per_artist_summary_df.plot.scatter(y='Likes', x='Valence', color='red', ax=ax)\n",
    "per_artist_summary_df.plot.scatter(y='Likes', x='Energy', color='orange', ax=ax)\n",
    "per_artist_summary_df.plot.scatter(y='Likes', x='Acousticness', color='yellow', ax=ax)\n",
    "per_artist_summary_df.plot.scatter(y='Likes', x='Instrumentalness', color='violet', ax=ax)\n",
    "# Set the x and y -axis label\n",
    "ax.set_xlabel('Track Attributes')\n",
    "ax.set_ylabel('Popularity')\n",
    "# Add a legend in the upper left quadrant\n",
    "ax.legend(['Valence', 'Liveness', 'Speechiness', 'Energy', 'Acousticness', 'Instrumentalness'], loc='upper left', bbox_to_anchor=(.35, 1))\n",
    "plt.show()\n",
    "# Calculate the correlation between each attribute and popularity\n",
    "correlations = per_artist_summary_df.corr()['Likes']\n",
    "print(correlations)"
   ]
  },
  {
   "cell_type": "code",
   "execution_count": null,
   "id": "9be43136",
   "metadata": {},
   "outputs": [],
   "source": [
    "\n",
    "ax = per_artist_summary_df.plot.scatter(y='Likes', x='Speechiness', color='green')\n",
    "# Add the rest of the attributes to the scatter plot to the first one\n",
    "per_artist_summary_df.plot.scatter(y='Likes', x='Liveness', color='blue', ax=ax)\n",
    "per_artist_summary_df.plot.scatter(y='Likes', x='Valence', color='red', ax=ax)\n",
    "per_artist_summary_df.plot.scatter(y='Likes', x='Energy', color='orange', ax=ax)\n",
    "per_artist_summary_df.plot.scatter(y='Likes', x='Acousticness', color='yellow', ax=ax)\n",
    "per_artist_summary_df.plot.scatter(y='Likes', x='Instrumentalness', color='violet', ax=ax)\n",
    "\n",
    "# Set the x and y -axis label\n",
    "ax.set_xlabel('Track Attributes')\n",
    "ax.set_ylabel('Popularity')\n",
    "\n",
    "# Add a legend in the upper left quadrant\n",
    "ax.legend(['Valence', 'Liveness', 'Speechiness', 'Energy', 'Acousticness', 'Instrumentalness'], loc='upper left', bbox_to_anchor=(.35, 1))\n",
    "\n",
    "plt.show()\n",
    "\n",
    "# Calculate the correlation between each attribute and popularity\n",
    "correlations = per_artist_summary_df.corr()['Likes']\n",
    "print(correlations)"
   ]
  },
  {
   "cell_type": "code",
   "execution_count": null,
   "id": "957724c3",
   "metadata": {},
   "outputs": [],
   "source": [
    "ax = per_artist_summary_df.plot.scatter(x='Likes', y='Liveness')\n",
    "plt.show()"
   ]
  },
  {
   "cell_type": "code",
   "execution_count": null,
   "id": "089d28e2",
   "metadata": {},
   "outputs": [],
   "source": [
    "per_artist_summary_df.plot.scatter(x='Likes', y='Valence')\n",
    "plt.show() "
   ]
  },
  {
   "cell_type": "code",
   "execution_count": null,
   "id": "bad1f044",
   "metadata": {},
   "outputs": [],
   "source": [
    "ax = per_artist_summary_df.plot.scatter(x='Likes', y='Speechiness', color='red')\n",
    "\n",
    "plt.show()"
   ]
  }
 ],
 "metadata": {
  "kernelspec": {
   "display_name": "Python 3 (ipykernel)",
   "language": "python",
   "name": "python3"
  },
  "language_info": {
   "codemirror_mode": {
    "name": "ipython",
    "version": 3
   },
   "file_extension": ".py",
   "mimetype": "text/x-python",
   "name": "python",
   "nbconvert_exporter": "python",
   "pygments_lexer": "ipython3",
   "version": "3.9.13"
  }
 },
 "nbformat": 4,
 "nbformat_minor": 5
}
